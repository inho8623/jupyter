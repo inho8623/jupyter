{
 "cells": [
  {
   "cell_type": "code",
   "execution_count": 3,
   "metadata": {},
   "outputs": [
    {
     "name": "stdout",
     "output_type": "stream",
     "text": [
      "C:\\OneDrive\\jupyter\n",
      "F:\\_이인호_업무폴더_정리\\개발협력동향\\2020년 3월\\3변환\n"
     ]
    }
   ],
   "source": [
    "\n",
    "import os\n",
    "print(os.getcwd())\n",
    "\n",
    "\n",
    "# In[40]:\n",
    "\n",
    "\n",
    "# 작업폴더 변경(infile\n",
    "os.chdir(\"F:\\\\_이인호_업무폴더_정리\\\\개발협력동향\\\\2020년 3월\\\\3변환\")\n",
    "print(os.getcwd())\n",
    "\n"
   ]
  },
  {
   "cell_type": "code",
   "execution_count": 5,
   "metadata": {},
   "outputs": [
    {
     "name": "stdout",
     "output_type": "stream",
     "text": [
      "['202003개발협력동향_가나.docx', '202003개발협력동향_과테말라.docx', '202003개발협력동향_나이지리아.docx', '202003개발협력동향_네팔.docx', '202003개발협력동향_도미니카공화국.docx', '202003개발협력동향_동티모르.docx', '202003개발협력동향_라오스.docx', '202003개발협력동향_르완다 .docx', '202003개발협력동향_르완다.docx', '202003개발협력동향_모로코.docx', '202003개발협력동향_모잠비크.docx', '202003개발협력동향_몽골.docx', '202003개발협력동향_미얀마.docx', '202003개발협력동향_방글라데시.docx', '202003개발협력동향_베트남.docx', '202003개발협력동향_볼리비아.docx', '202003개발협력동향_세네갈.docx', '202003개발협력동향_스리랑카.docx', '202003개발협력동향_아제르바이잔.docx', '202003개발협력동향_아프가니스탄.docx', '202003개발협력동향_알제리.docx', '202003개발협력동향_에콰도르.docx', '202003개발협력동향_에티오피아.docx', '202003개발협력동향_엘살바도르.docx', '202003개발협력동향_요르단.docx', '202003개발협력동향_우간다.docx', '202003개발협력동향_우즈베키스탄.docx', '202003개발협력동향_이라크.docx', '202003개발협력동향_이집트.docx', '202003개발협력동향_인도네시아.docx', '202003개발협력동향_중앙아프리카.docx', '202003개발협력동향_차드.docx', '202003개발협력동향_카메룬.docx', '202003개발협력동향_캄보디아.docx', '202003개발협력동향_케냐.docx', '202003개발협력동향_코트디부아르.docx', '202003개발협력동향_콜롬비아.docx', '202003개발협력동향_콩고민주공화국.docx', '202003개발협력동향_키르기스스탄.docx', '202003개발협력동향_탄자니아.docx', '202003개발협력동향_튀니지.docx', '202003개발협력동향_파라과이.docx', '202003개발협력동향_파키스탄.docx', '202003개발협력동향_팔레스타인.docx', '202003개발협력동향_페루.docx', '202003개발협력동향_피지.docx', '202003개발협력동향_필리핀.docx']\n"
     ]
    },
    {
     "ename": "ModuleNotFoundError",
     "evalue": "No module named 'docx2pdf'",
     "output_type": "error",
     "traceback": [
      "\u001b[1;31m---------------------------------------------------------------------------\u001b[0m",
      "\u001b[1;31mModuleNotFoundError\u001b[0m                       Traceback (most recent call last)",
      "\u001b[1;32m<ipython-input-5-018b8dfb5c42>\u001b[0m in \u001b[0;36m<module>\u001b[1;34m\u001b[0m\n\u001b[0;32m     14\u001b[0m \u001b[1;33m\u001b[0m\u001b[0m\n\u001b[0;32m     15\u001b[0m \u001b[1;31m# 파일 변환(docx -> pdf)\u001b[0m\u001b[1;33m\u001b[0m\u001b[1;33m\u001b[0m\u001b[1;33m\u001b[0m\u001b[0m\n\u001b[1;32m---> 16\u001b[1;33m \u001b[1;32mfrom\u001b[0m \u001b[0mdocx2pdf\u001b[0m \u001b[1;32mimport\u001b[0m \u001b[0mconvert\u001b[0m\u001b[1;33m\u001b[0m\u001b[1;33m\u001b[0m\u001b[0m\n\u001b[0m\u001b[0;32m     17\u001b[0m \u001b[1;33m\u001b[0m\u001b[0m\n\u001b[0;32m     18\u001b[0m \u001b[1;32mfor\u001b[0m \u001b[0mfile\u001b[0m \u001b[1;32min\u001b[0m \u001b[0mfile_list_docx\u001b[0m\u001b[1;33m:\u001b[0m\u001b[1;33m\u001b[0m\u001b[1;33m\u001b[0m\u001b[0m\n",
      "\u001b[1;31mModuleNotFoundError\u001b[0m: No module named 'docx2pdf'"
     ]
    }
   ],
   "source": [
    "\n",
    "# In[44]:\n",
    "\n",
    "\n",
    "# 작업폴더 내 변환 대상 파일 리스트\n",
    "path_dir = \"F:\\\\_이인호_업무폴더_정리\\\\개발협력동향\\\\2020년 3월\\\\3변환\"\n",
    "file_list = os.listdir(path_dir)\n",
    "file_list_docx = [file for file in file_list if file.endswith(\".docx\")]\n",
    "\n",
    "print(file_list_docx)\n",
    "\n",
    "\n",
    "# In[47]:\n",
    "\n",
    "\n",
    "# 파일 변환(docx -> pdf)\n",
    "from docx2pdf import convert\n",
    "\n",
    "for file in file_list_docx:\n",
    "    print(file)\n",
    "    convert(file)\n"
   ]
  },
  {
   "cell_type": "code",
   "execution_count": null,
   "metadata": {},
   "outputs": [],
   "source": []
  },
  {
   "cell_type": "code",
   "execution_count": null,
   "metadata": {},
   "outputs": [],
   "source": []
  }
 ],
 "metadata": {
  "kernelspec": {
   "display_name": "Python 3",
   "language": "python",
   "name": "python3"
  },
  "language_info": {
   "codemirror_mode": {
    "name": "ipython",
    "version": 3
   },
   "file_extension": ".py",
   "mimetype": "text/x-python",
   "name": "python",
   "nbconvert_exporter": "python",
   "pygments_lexer": "ipython3",
   "version": "3.7.4"
  }
 },
 "nbformat": 4,
 "nbformat_minor": 2
}
