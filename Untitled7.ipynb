{
 "cells": [
  {
   "cell_type": "code",
   "execution_count": null,
   "metadata": {},
   "outputs": [],
   "source": [
    "\n",
    "\n",
    "\n",
    "#!/usr/bin/env python\n",
    "# coding: utf-8\n",
    "\n",
    "# In[2]:\n",
    "\n",
    "\n",
    "# docx2pdf 기본 코드\n",
    "from docx2pdf import convert\n",
    "convert(\"202001개발협력동향_라오스.docx\")\n",
    "\n",
    "\n",
    "# In[39]:\n",
    "\n",
    "\n",
    "# 작업폴더 확인\n",
    "import os\n",
    "print(os.getcwd())\n",
    "\n",
    "\n",
    "# In[40]:\n",
    "\n",
    "\n",
    "# 작업폴더 변경(infile\n",
    "os.chdir(\"D:\\\\_이인호_업무폴더_정리\\\\개발협력동향\\\\2020년 1월\\\\작업\")\n",
    "print(os.getcwd())\n",
    "\n",
    "\n",
    "# In[44]:\n",
    "\n",
    "\n",
    "# 작업폴더 내 변환 대상 파일 리스트\n",
    "path_dir = \"D:\\\\_이인호_업무폴더_정리\\\\개발협력동향\\\\2020년 1월\\\\작업\"\n",
    "file_list = os.listdir(path_dir)\n",
    "file_list_docx = [file for file in file_list if file.endswith(\".docx\")]\n",
    "\n",
    "print(file_list_docx)\n",
    "\n",
    "\n",
    "# In[47]:\n",
    "\n",
    "\n",
    "# 파일 변환(docx -> pdf)\n",
    "from docx2pdf import convert\n",
    "\n",
    "for file in file_list_docx:\n",
    "    print(file)\n",
    "    convert(file)\n"
   ]
  }
 ],
 "metadata": {
  "kernelspec": {
   "display_name": "Python 3",
   "language": "python",
   "name": "python3"
  },
  "language_info": {
   "codemirror_mode": {
    "name": "ipython",
    "version": 3
   },
   "file_extension": ".py",
   "mimetype": "text/x-python",
   "name": "python",
   "nbconvert_exporter": "python",
   "pygments_lexer": "ipython3",
   "version": "3.7.4"
  }
 },
 "nbformat": 4,
 "nbformat_minor": 2
}
