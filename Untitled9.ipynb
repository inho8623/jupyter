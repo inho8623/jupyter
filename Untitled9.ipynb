{
 "cells": [
  {
   "cell_type": "code",
   "execution_count": 4,
   "metadata": {},
   "outputs": [
    {
     "name": "stdout",
     "output_type": "stream",
     "text": [
      "1467,407\n"
     ]
    }
   ],
   "source": [
    "import pyautogui # 마우스 제어 라이브러리\n",
    "import keyboard\n",
    "import time # 시간 제어 라이브러리\n",
    "\n",
    "# 좌표 확인\n",
    "currentMouseX, currentMouseY = pyautogui.position()\n",
    "print('{0},{1}'.format(currentMouseX, currentMouseY))\n",
    "\n",
    "# 클릭 시작\n",
    "while True:\n",
    "    time.sleep(0.1)\n",
    "    pyautogui.mouseDown(x=295, y=216, button='left') # 해당 포인터 위치에서 마우스 누르기\n",
    "    pyautogui.mouseUp(x=295, y=216, button='left') # 해당 포인터 위치에서 마우스 떼기\n",
    "    if keyboard.is_pressed('F4'):\n",
    "        break"
   ]
  },
  {
   "cell_type": "code",
   "execution_count": 5,
   "metadata": {},
   "outputs": [
    {
     "name": "stdout",
     "output_type": "stream",
     "text": [
      "341,216\n"
     ]
    }
   ],
   "source": [
    "import pyautogui # 마우스 제어 라이브러리\n",
    "import keyboard\n",
    "import time # 시간 제어 라이브러리\n",
    "\n",
    "# 좌표 확인\n",
    "currentMouseX, currentMouseY = pyautogui.position()\n",
    "print('{0},{1}'.format(currentMouseX, currentMouseY))\n"
   ]
  }
 ],
 "metadata": {
  "kernelspec": {
   "display_name": "Python 3",
   "language": "python",
   "name": "python3"
  },
  "language_info": {
   "codemirror_mode": {
    "name": "ipython",
    "version": 3
   },
   "file_extension": ".py",
   "mimetype": "text/x-python",
   "name": "python",
   "nbconvert_exporter": "python",
   "pygments_lexer": "ipython3",
   "version": "3.7.6"
  }
 },
 "nbformat": 4,
 "nbformat_minor": 4
}
