{
 "cells": [
  {
   "cell_type": "code",
   "execution_count": 17,
   "metadata": {},
   "outputs": [
    {
     "name": "stdout",
     "output_type": "stream",
     "text": [
      "D:\\wb\\rawfiles\n"
     ]
    }
   ],
   "source": [
    "import os\n",
    "\n",
    "# 작업폴더 변경(infile)\n",
    "path_dir = \"D:\\\\wb\\\\rawfiles\"\n",
    "os.chdir(path_dir)\n",
    "print(os.getcwd())\n",
    "\n",
    "import requests\n",
    "url = 'http://api.worldbank.org/v2/en/indicator/SP.POP.TOTL?downloadformat=excel'\n",
    "resp = requests.get(url)\n",
    "\n",
    "output = open('test.xlsx', 'wb')\n",
    "output.write(resp.content)\n",
    "output.close()\n"
   ]
  }
 ],
 "metadata": {
  "kernelspec": {
   "display_name": "Python 3",
   "language": "python",
   "name": "python3"
  },
  "language_info": {
   "codemirror_mode": {
    "name": "ipython",
    "version": 3
   },
   "file_extension": ".py",
   "mimetype": "text/x-python",
   "name": "python",
   "nbconvert_exporter": "python",
   "pygments_lexer": "ipython3",
   "version": "3.7.6"
  }
 },
 "nbformat": 4,
 "nbformat_minor": 4
}
