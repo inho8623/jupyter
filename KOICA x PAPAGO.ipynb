{
 "cells": [
  {
   "cell_type": "code",
   "execution_count": 2,
   "metadata": {},
   "outputs": [
    {
     "name": "stderr",
     "output_type": "stream",
     "text": [
      "C:\\anaconda3\\lib\\site-packages\\ipykernel_launcher.py:56: SettingWithCopyWarning: \n",
      "A value is trying to be set on a copy of a slice from a DataFrame\n",
      "\n",
      "See the caveats in the documentation: https://pandas.pydata.org/pandas-docs/stable/user_guide/indexing.html#returning-a-view-versus-a-copy\n"
     ]
    }
   ],
   "source": [
    "import os\n",
    "import sys\n",
    "import urllib.request\n",
    "import json\n",
    "import pandas as pd\n",
    "\n",
    "# 네이버 개발자 API KEY 입력\n",
    "client_id = \"fK5QSV7gbRhfGy9Q3BoT\"\n",
    "client_secret = \"sis62MMLIV\"\n",
    "\n",
    "# sample data 불러오기\n",
    "data = pd.read_csv(\"indonesia_sample.csv\", encoding='cp949')\n",
    "\n",
    "# sample data를 DataFrame으로 변환(?)\n",
    "df = pd.DataFrame(data)\n",
    "\n",
    "#번역할 항목 정의\n",
    "title_list = df['title']\n",
    "transtitle_list = df['transtitle']\n",
    "\n",
    "main1_list = df['main1']\n",
    "transmain1_list = df['transmain1']\n",
    "\n",
    "main2_list = df['main2']\n",
    "transmain2_list = df['transmain2']\n",
    "\n",
    "main3_list = df['main3']\n",
    "transmain3_list = df['transmain3']\n",
    "\n",
    "main4_list = df['main4']\n",
    "transmain4_list = df['transmain4']\n",
    "\n",
    "main5_list = df['main5']\n",
    "transmain5_list = df['transmain5']      \n",
    "\n",
    "def papago(var1, var2):\n",
    "    for i in range(6):\n",
    "        srcText = var1[i]\n",
    "\n",
    "        encText = urllib.parse.quote(srcText)\n",
    "        data = \"source=en&target=ko&text=\" + encText\n",
    "        url = \"https://openapi.naver.com/v1/papago/n2mt\"\n",
    "        request = urllib.request.Request(url)\n",
    "        request.add_header(\"X-Naver-Client-Id\",client_id)\n",
    "        request.add_header(\"X-Naver-Client-Secret\",client_secret)\n",
    "        response = urllib.request.urlopen(request, data=data.encode(\"utf-8\"))\n",
    "        rescode = response.getcode()\n",
    "        if(rescode==200):\n",
    "            response_body = response.read()\n",
    "            # print(response_body.decode('utf-8'))\n",
    "            #json 형 변환\n",
    "            res = json.loads(response_body.decode('utf-8'))\n",
    "            #from pprint import pprint\n",
    "            #pprint(res['message']['result']['translatedText'])\n",
    "\n",
    "            var2[i] = res['message']['result']['translatedText']\n",
    "            \n",
    "        else:\n",
    "            print(\"Error Code:\" + rescode)\n",
    "\n",
    "papago(title_list, transtitle_list)\n",
    "papago(main1_list, transmain1_list)\n",
    "papago(main2_list, transmain2_list)\n",
    "papago(main3_list, transmain3_list)\n",
    "papago(main4_list, transmain4_list)\n",
    "papago(main5_list, transmain5_list)\n",
    "\n",
    "df.to_csv(\"indonesia_output.csv\", encoding='cp949')"
   ]
  }
 ],
 "metadata": {
  "kernelspec": {
   "display_name": "Python 3",
   "language": "python",
   "name": "python3"
  },
  "language_info": {
   "codemirror_mode": {
    "name": "ipython",
    "version": 3
   },
   "file_extension": ".py",
   "mimetype": "text/x-python",
   "name": "python",
   "nbconvert_exporter": "python",
   "pygments_lexer": "ipython3",
   "version": "3.7.6"
  }
 },
 "nbformat": 4,
 "nbformat_minor": 4
}
