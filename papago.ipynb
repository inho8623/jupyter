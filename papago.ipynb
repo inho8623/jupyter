{
 "cells": [
  {
   "cell_type": "code",
   "execution_count": 28,
   "metadata": {},
   "outputs": [
    {
     "name": "stdout",
     "output_type": "stream",
     "text": [
      "{'message': {'@service': 'naverservice.nmt.proxy',\n",
      "             '@type': 'response',\n",
      "             '@version': '1.0.0',\n",
      "             'result': {'engineType': 'UNDEF_MULTI_SENTENCE',\n",
      "                        'pivot': None,\n",
      "                        'srcLangType': 'en',\n",
      "                        'tarLangType': 'ko',\n",
      "                        'translatedText': 'ODA는 현재 기본적인 통계 품질 기준을 충족하지 못하고 있다. '\n",
      "                                          'ODA는 결코 완벽하지 않았고, 수년간 비평가들은 어떤 자원도 '\n",
      "                                          '개발 도상국에 이전하지 않은 학생들과 난민들의 비용 같은 물품의 '\n",
      "                                          '포함에 대해 불평했다.'}}}\n"
     ]
    }
   ],
   "source": [
    "import os\n",
    "import sys\n",
    "import urllib.request\n",
    "import json\n",
    "client_id = \"fK5QSV7gbRhfGy9Q3BoT\" \n",
    "client_secret = \"sis62MMLIV\" \n",
    "\n",
    "#번역할 메모장 불러오기\n",
    "with open('source.txt','r',encoding='utf8') as f:\n",
    "    srcText = f.read()\n",
    "    \n",
    "    \n",
    "\n",
    "encText = urllib.parse.quote(srcText)\n",
    "data = \"source=en&target=ko&text=\" + encText\n",
    "url = \"https://openapi.naver.com/v1/papago/n2mt\"\n",
    "request = urllib.request.Request(url)\n",
    "request.add_header(\"X-Naver-Client-Id\",client_id)\n",
    "request.add_header(\"X-Naver-Client-Secret\",client_secret)\n",
    "response = urllib.request.urlopen(request, data=data.encode(\"utf-8\"))\n",
    "rescode = response.getcode()\n",
    "if(rescode==200):\n",
    "    response_body = response.read()\n",
    "    # print(response_body.decode('utf-8'))\n",
    "\n",
    "    #json 형 변환\n",
    "    res = json.loads(response_body.decode('utf-8'))\n",
    "    from pprint import pprint\n",
    "    pprint(res)\n",
    "\n",
    "    #파일 생성\n",
    "    with open('translate.txt', 'w',encoding='utf8') as f:\n",
    "        f.write(res['message']['result']['translatedText'])\n",
    "\n",
    "else:\n",
    "    print(\"Error Code:\" + rescode)"
   ]
  }
 ],
 "metadata": {
  "kernelspec": {
   "display_name": "Python 3",
   "language": "python",
   "name": "python3"
  },
  "language_info": {
   "codemirror_mode": {
    "name": "ipython",
    "version": 3
   },
   "file_extension": ".py",
   "mimetype": "text/x-python",
   "name": "python",
   "nbconvert_exporter": "python",
   "pygments_lexer": "ipython3",
   "version": "3.7.6"
  }
 },
 "nbformat": 4,
 "nbformat_minor": 2
}
